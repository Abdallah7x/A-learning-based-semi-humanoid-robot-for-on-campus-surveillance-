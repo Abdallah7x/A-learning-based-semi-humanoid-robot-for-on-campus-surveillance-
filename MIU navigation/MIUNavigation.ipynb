{
  "nbformat": 4,
  "nbformat_minor": 0,
  "metadata": {
    "colab": {
      "name": "Untitled2.ipynb",
      "provenance": [],
      "collapsed_sections": []
    },
    "kernelspec": {
      "name": "python3",
      "display_name": "Python 3"
    },
    "language_info": {
      "name": "python"
    },
    "widgets": {
      "application/vnd.jupyter.widget-state+json": {
        "7d450a63ca9a46f3a892efc7c060b930": {
          "model_module": "@jupyter-widgets/controls",
          "model_name": "VBoxModel",
          "model_module_version": "1.5.0",
          "state": {
            "_view_name": "VBoxView",
            "_dom_classes": [
              "widget-interact"
            ],
            "_model_name": "VBoxModel",
            "_view_module": "@jupyter-widgets/controls",
            "_model_module_version": "1.5.0",
            "_view_count": null,
            "_view_module_version": "1.5.0",
            "box_style": "",
            "layout": "IPY_MODEL_15b7500650f044f8ab0ab5bdebb33126",
            "_model_module": "@jupyter-widgets/controls",
            "children": [
              "IPY_MODEL_f3bee9cda24e4a1a8cd94a3f0d1eccdd",
              "IPY_MODEL_885cae76acf548469184720a005a3460"
            ]
          }
        },
        "15b7500650f044f8ab0ab5bdebb33126": {
          "model_module": "@jupyter-widgets/base",
          "model_name": "LayoutModel",
          "model_module_version": "1.2.0",
          "state": {
            "_view_name": "LayoutView",
            "grid_template_rows": null,
            "right": null,
            "justify_content": null,
            "_view_module": "@jupyter-widgets/base",
            "overflow": null,
            "_model_module_version": "1.2.0",
            "_view_count": null,
            "flex_flow": null,
            "width": null,
            "min_width": null,
            "border": null,
            "align_items": null,
            "bottom": null,
            "_model_module": "@jupyter-widgets/base",
            "top": null,
            "grid_column": null,
            "overflow_y": null,
            "overflow_x": null,
            "grid_auto_flow": null,
            "grid_area": null,
            "grid_template_columns": null,
            "flex": null,
            "_model_name": "LayoutModel",
            "justify_items": null,
            "grid_row": null,
            "max_height": null,
            "align_content": null,
            "visibility": null,
            "align_self": null,
            "height": null,
            "min_height": null,
            "padding": null,
            "grid_auto_rows": null,
            "grid_gap": null,
            "max_width": null,
            "order": null,
            "_view_module_version": "1.2.0",
            "grid_template_areas": null,
            "object_position": null,
            "object_fit": null,
            "grid_auto_columns": null,
            "margin": null,
            "display": null,
            "left": null
          }
        },
        "f3bee9cda24e4a1a8cd94a3f0d1eccdd": {
          "model_module": "@jupyter-widgets/controls",
          "model_name": "SelectModel",
          "model_module_version": "1.5.0",
          "state": {
            "_options_labels": [
              "Staff Gate",
              "Students Gate"
            ],
            "_view_name": "SelectView",
            "style": "IPY_MODEL_f033b40a24844990bc144e6009064db8",
            "rows": 5,
            "_dom_classes": [],
            "description": "Start",
            "_model_name": "SelectModel",
            "index": 0,
            "_view_module": "@jupyter-widgets/controls",
            "_model_module_version": "1.5.0",
            "_view_count": null,
            "disabled": false,
            "_view_module_version": "1.5.0",
            "description_tooltip": null,
            "_model_module": "@jupyter-widgets/controls",
            "layout": "IPY_MODEL_0caa5a25efc2465287898a1edfb7faf9"
          }
        },
        "885cae76acf548469184720a005a3460": {
          "model_module": "@jupyter-widgets/output",
          "model_name": "OutputModel",
          "model_module_version": "1.0.0",
          "state": {
            "_view_name": "OutputView",
            "msg_id": "",
            "_dom_classes": [],
            "_model_name": "OutputModel",
            "outputs": [
              {
                "output_type": "stream",
                "name": "stdout",
                "text": [
                  "Selected Start: o; Selected Target: MIU2\n"
                ]
              }
            ],
            "_view_module": "@jupyter-widgets/output",
            "_model_module_version": "1.0.0",
            "_view_count": null,
            "_view_module_version": "1.0.0",
            "layout": "IPY_MODEL_07a06bf55f5d4e4a8bd16e8e32118726",
            "_model_module": "@jupyter-widgets/output"
          }
        },
        "f033b40a24844990bc144e6009064db8": {
          "model_module": "@jupyter-widgets/controls",
          "model_name": "DescriptionStyleModel",
          "model_module_version": "1.5.0",
          "state": {
            "_view_name": "StyleView",
            "_model_name": "DescriptionStyleModel",
            "description_width": "",
            "_view_module": "@jupyter-widgets/base",
            "_model_module_version": "1.5.0",
            "_view_count": null,
            "_view_module_version": "1.2.0",
            "_model_module": "@jupyter-widgets/controls"
          }
        },
        "0caa5a25efc2465287898a1edfb7faf9": {
          "model_module": "@jupyter-widgets/base",
          "model_name": "LayoutModel",
          "model_module_version": "1.2.0",
          "state": {
            "_view_name": "LayoutView",
            "grid_template_rows": null,
            "right": null,
            "justify_content": null,
            "_view_module": "@jupyter-widgets/base",
            "overflow": null,
            "_model_module_version": "1.2.0",
            "_view_count": null,
            "flex_flow": null,
            "width": null,
            "min_width": null,
            "border": null,
            "align_items": null,
            "bottom": null,
            "_model_module": "@jupyter-widgets/base",
            "top": null,
            "grid_column": null,
            "overflow_y": null,
            "overflow_x": null,
            "grid_auto_flow": null,
            "grid_area": null,
            "grid_template_columns": null,
            "flex": null,
            "_model_name": "LayoutModel",
            "justify_items": null,
            "grid_row": null,
            "max_height": null,
            "align_content": null,
            "visibility": null,
            "align_self": null,
            "height": null,
            "min_height": null,
            "padding": null,
            "grid_auto_rows": null,
            "grid_gap": null,
            "max_width": null,
            "order": null,
            "_view_module_version": "1.2.0",
            "grid_template_areas": null,
            "object_position": null,
            "object_fit": null,
            "grid_auto_columns": null,
            "margin": null,
            "display": null,
            "left": null
          }
        },
        "07a06bf55f5d4e4a8bd16e8e32118726": {
          "model_module": "@jupyter-widgets/base",
          "model_name": "LayoutModel",
          "model_module_version": "1.2.0",
          "state": {
            "_view_name": "LayoutView",
            "grid_template_rows": null,
            "right": null,
            "justify_content": null,
            "_view_module": "@jupyter-widgets/base",
            "overflow": null,
            "_model_module_version": "1.2.0",
            "_view_count": null,
            "flex_flow": null,
            "width": null,
            "min_width": null,
            "border": null,
            "align_items": null,
            "bottom": null,
            "_model_module": "@jupyter-widgets/base",
            "top": null,
            "grid_column": null,
            "overflow_y": null,
            "overflow_x": null,
            "grid_auto_flow": null,
            "grid_area": null,
            "grid_template_columns": null,
            "flex": null,
            "_model_name": "LayoutModel",
            "justify_items": null,
            "grid_row": null,
            "max_height": null,
            "align_content": null,
            "visibility": null,
            "align_self": null,
            "height": null,
            "min_height": null,
            "padding": null,
            "grid_auto_rows": null,
            "grid_gap": null,
            "max_width": null,
            "order": null,
            "_view_module_version": "1.2.0",
            "grid_template_areas": null,
            "object_position": null,
            "object_fit": null,
            "grid_auto_columns": null,
            "margin": null,
            "display": null,
            "left": null
          }
        },
        "1b045e49d96746dd818fec3866f0fd93": {
          "model_module": "@jupyter-widgets/controls",
          "model_name": "VBoxModel",
          "model_module_version": "1.5.0",
          "state": {
            "_view_name": "VBoxView",
            "_dom_classes": [
              "widget-interact"
            ],
            "_model_name": "VBoxModel",
            "_view_module": "@jupyter-widgets/controls",
            "_model_module_version": "1.5.0",
            "_view_count": null,
            "_view_module_version": "1.5.0",
            "box_style": "",
            "layout": "IPY_MODEL_60aef6a75a3b425f9e9130e938c0b6d0",
            "_model_module": "@jupyter-widgets/controls",
            "children": [
              "IPY_MODEL_ebf9235059824397b22c265ae806099a",
              "IPY_MODEL_c41c777a32f5445f8e7fd1e703ce2e46"
            ]
          }
        },
        "60aef6a75a3b425f9e9130e938c0b6d0": {
          "model_module": "@jupyter-widgets/base",
          "model_name": "LayoutModel",
          "model_module_version": "1.2.0",
          "state": {
            "_view_name": "LayoutView",
            "grid_template_rows": null,
            "right": null,
            "justify_content": null,
            "_view_module": "@jupyter-widgets/base",
            "overflow": null,
            "_model_module_version": "1.2.0",
            "_view_count": null,
            "flex_flow": null,
            "width": null,
            "min_width": null,
            "border": null,
            "align_items": null,
            "bottom": null,
            "_model_module": "@jupyter-widgets/base",
            "top": null,
            "grid_column": null,
            "overflow_y": null,
            "overflow_x": null,
            "grid_auto_flow": null,
            "grid_area": null,
            "grid_template_columns": null,
            "flex": null,
            "_model_name": "LayoutModel",
            "justify_items": null,
            "grid_row": null,
            "max_height": null,
            "align_content": null,
            "visibility": null,
            "align_self": null,
            "height": null,
            "min_height": null,
            "padding": null,
            "grid_auto_rows": null,
            "grid_gap": null,
            "max_width": null,
            "order": null,
            "_view_module_version": "1.2.0",
            "grid_template_areas": null,
            "object_position": null,
            "object_fit": null,
            "grid_auto_columns": null,
            "margin": null,
            "display": null,
            "left": null
          }
        },
        "ebf9235059824397b22c265ae806099a": {
          "model_module": "@jupyter-widgets/controls",
          "model_name": "SelectModel",
          "model_module_version": "1.5.0",
          "state": {
            "_options_labels": [
              "Main",
              "K-bulding",
              "Pharmacy-bulding",
              "S-bulding",
              "N-bulding",
              "R-bulding"
            ],
            "_view_name": "SelectView",
            "style": "IPY_MODEL_72ab555745e9457fad73cc70059bb1f2",
            "rows": 5,
            "_dom_classes": [],
            "description": "Target",
            "_model_name": "SelectModel",
            "index": 2,
            "_view_module": "@jupyter-widgets/controls",
            "_model_module_version": "1.5.0",
            "_view_count": null,
            "disabled": false,
            "_view_module_version": "1.5.0",
            "description_tooltip": null,
            "_model_module": "@jupyter-widgets/controls",
            "layout": "IPY_MODEL_98c384790b344607956b9327d3d652c7"
          }
        },
        "c41c777a32f5445f8e7fd1e703ce2e46": {
          "model_module": "@jupyter-widgets/output",
          "model_name": "OutputModel",
          "model_module_version": "1.0.0",
          "state": {
            "_view_name": "OutputView",
            "msg_id": "",
            "_dom_classes": [],
            "_model_name": "OutputModel",
            "outputs": [
              {
                "output_type": "display_data",
                "data": {
                  "text/html": "<div style=\"width:100%;\"><div style=\"position:relative;width:100%;height:0;padding-bottom:60%;\"><span style=\"color:#565656\">Make this Notebook Trusted to load map: File -> Trust Notebook</span><iframe src=\"about:blank\" style=\"position:absolute;width:100%;height:100%;left:0;top:0;border:none !important;\" data-html=%3C%21DOCTYPE%20html%3E%0A%3Chead%3E%20%20%20%20%0A%20%20%20%20%3Cmeta%20http-equiv%3D%22content-type%22%20content%3D%22text/html%3B%20charset%3DUTF-8%22%20/%3E%0A%20%20%20%20%3Cscript%3EL_PREFER_CANVAS%3Dfalse%3B%20L_NO_TOUCH%3Dfalse%3B%20L_DISABLE_3D%3Dfalse%3B%3C/script%3E%0A%20%20%20%20%3Cscript%20src%3D%22https%3A//cdn.jsdelivr.net/npm/leaflet%401.4.0/dist/leaflet.js%22%3E%3C/script%3E%0A%20%20%20%20%3Cscript%20src%3D%22https%3A//code.jquery.com/jquery-1.12.4.min.js%22%3E%3C/script%3E%0A%20%20%20%20%3Cscript%20src%3D%22https%3A//maxcdn.bootstrapcdn.com/bootstrap/3.2.0/js/bootstrap.min.js%22%3E%3C/script%3E%0A%20%20%20%20%3Cscript%20src%3D%22https%3A//cdnjs.cloudflare.com/ajax/libs/Leaflet.awesome-markers/2.0.2/leaflet.awesome-markers.js%22%3E%3C/script%3E%0A%20%20%20%20%3Clink%20rel%3D%22stylesheet%22%20href%3D%22https%3A//cdn.jsdelivr.net/npm/leaflet%401.4.0/dist/leaflet.css%22/%3E%0A%20%20%20%20%3Clink%20rel%3D%22stylesheet%22%20href%3D%22https%3A//maxcdn.bootstrapcdn.com/bootstrap/3.2.0/css/bootstrap.min.css%22/%3E%0A%20%20%20%20%3Clink%20rel%3D%22stylesheet%22%20href%3D%22https%3A//maxcdn.bootstrapcdn.com/bootstrap/3.2.0/css/bootstrap-theme.min.css%22/%3E%0A%20%20%20%20%3Clink%20rel%3D%22stylesheet%22%20href%3D%22https%3A//maxcdn.bootstrapcdn.com/font-awesome/4.6.3/css/font-awesome.min.css%22/%3E%0A%20%20%20%20%3Clink%20rel%3D%22stylesheet%22%20href%3D%22https%3A//cdnjs.cloudflare.com/ajax/libs/Leaflet.awesome-markers/2.0.2/leaflet.awesome-markers.css%22/%3E%0A%20%20%20%20%3Clink%20rel%3D%22stylesheet%22%20href%3D%22https%3A//rawcdn.githack.com/python-visualization/folium/master/folium/templates/leaflet.awesome.rotate.css%22/%3E%0A%20%20%20%20%3Cstyle%3Ehtml%2C%20body%20%7Bwidth%3A%20100%25%3Bheight%3A%20100%25%3Bmargin%3A%200%3Bpadding%3A%200%3B%7D%3C/style%3E%0A%20%20%20%20%3Cstyle%3E%23map%20%7Bposition%3Aabsolute%3Btop%3A0%3Bbottom%3A0%3Bright%3A0%3Bleft%3A0%3B%7D%3C/style%3E%0A%20%20%20%20%0A%20%20%20%20%3Cmeta%20name%3D%22viewport%22%20content%3D%22width%3Ddevice-width%2C%0A%20%20%20%20%20%20%20%20initial-scale%3D1.0%2C%20maximum-scale%3D1.0%2C%20user-scalable%3Dno%22%20/%3E%0A%20%20%20%20%3Cstyle%3E%23map_02eef290fdb44b8eaf01192b855408e2%20%7B%0A%20%20%20%20%20%20%20%20position%3A%20relative%3B%0A%20%20%20%20%20%20%20%20width%3A%2075.0%25%3B%0A%20%20%20%20%20%20%20%20height%3A%20100.0%25%3B%0A%20%20%20%20%20%20%20%20left%3A%200.0%25%3B%0A%20%20%20%20%20%20%20%20top%3A%200.0%25%3B%0A%20%20%20%20%20%20%20%20%7D%0A%20%20%20%20%3C/style%3E%0A%20%20%20%20%3Cscript%20src%3D%22https%3A//cdn.jsdelivr.net/npm/leaflet-ant-path%401.1.2/dist/leaflet-ant-path.min.js%22%3E%3C/script%3E%0A%3C/head%3E%0A%3Cbody%3E%20%20%20%20%0A%20%20%20%20%0A%20%20%20%20%3Cdiv%20class%3D%22folium-map%22%20id%3D%22map_02eef290fdb44b8eaf01192b855408e2%22%20%3E%3C/div%3E%0A%3C/body%3E%0A%3Cscript%3E%20%20%20%20%0A%20%20%20%20%0A%20%20%20%20%0A%20%20%20%20%20%20%20%20var%20bounds%20%3D%20null%3B%0A%20%20%20%20%0A%0A%20%20%20%20var%20map_02eef290fdb44b8eaf01192b855408e2%20%3D%20L.map%28%0A%20%20%20%20%20%20%20%20%27map_02eef290fdb44b8eaf01192b855408e2%27%2C%20%7B%0A%20%20%20%20%20%20%20%20center%3A%20%5B30.1701%2C%2031.4919%5D%2C%0A%20%20%20%20%20%20%20%20zoom%3A%2017%2C%0A%20%20%20%20%20%20%20%20maxBounds%3A%20bounds%2C%0A%20%20%20%20%20%20%20%20layers%3A%20%5B%5D%2C%0A%20%20%20%20%20%20%20%20worldCopyJump%3A%20false%2C%0A%20%20%20%20%20%20%20%20crs%3A%20L.CRS.EPSG3857%2C%0A%20%20%20%20%20%20%20%20zoomControl%3A%20true%2C%0A%20%20%20%20%20%20%20%20%7D%29%3B%0A%0A%0A%20%20%20%20%0A%20%20%20%20var%20tile_layer_a7951ef5d6624a4ebd9bb00703808e18%20%3D%20L.tileLayer%28%0A%20%20%20%20%20%20%20%20%27https%3A//%7Bs%7D.tile.openstreetmap.org/%7Bz%7D/%7Bx%7D/%7By%7D.png%27%2C%0A%20%20%20%20%20%20%20%20%7B%0A%20%20%20%20%20%20%20%20%22attribution%22%3A%20null%2C%0A%20%20%20%20%20%20%20%20%22detectRetina%22%3A%20false%2C%0A%20%20%20%20%20%20%20%20%22maxNativeZoom%22%3A%2018%2C%0A%20%20%20%20%20%20%20%20%22maxZoom%22%3A%2018%2C%0A%20%20%20%20%20%20%20%20%22minZoom%22%3A%200%2C%0A%20%20%20%20%20%20%20%20%22noWrap%22%3A%20false%2C%0A%20%20%20%20%20%20%20%20%22opacity%22%3A%201%2C%0A%20%20%20%20%20%20%20%20%22subdomains%22%3A%20%22abc%22%2C%0A%20%20%20%20%20%20%20%20%22tms%22%3A%20false%0A%7D%29.addTo%28map_02eef290fdb44b8eaf01192b855408e2%29%3B%0A%20%20%20%20%0A%20%20%20%20%20%20%20%20%20%20%20%20%20%20%20%20ant_path_58240a1316714e88ae1889177bdf833a%20%3D%20L.polyline.antPath%28%0A%20%20%20%20%20%20%20%20%20%20%20%20%20%20%20%20%20%20%5B%5B30.16695885261166%2C%2031.492522120911%2C%2077.0178669719965%5D%2C%20%5B30.16728542618395%2C%2031.49248980883029%2C%2076.82328443169504%5D%2C%20%5B30.16760457268533%2C%2031.49243977483215%2C%2076.8647739415896%5D%2C%20%5B30.16782120445538%2C%2031.49241236588148%2C%2076.83466472210354%5D%2C%20%5B30.16801782910214%2C%2031.49238826897966%2C%2076.26518784789874%5D%2C%20%5B30.16825037763251%2C%2031.49236497345476%2C%2076.05446863400162%5D%2C%20%5B30.16846728427638%2C%2031.49235064411088%2C%2075.78177074261811%5D%2C%20%5B30.1685658837422%2C%2031.49238304451158%2C%2075.9807538466683%5D%2C%20%5B30.16871175969841%2C%2031.49236059110869%2C%2076.13441386956792%5D%2C%20%5B30.16880049889611%2C%2031.49235478123644%2C%2076.00677212932989%5D%2C%20%5B30.16893945806877%2C%2031.49229739284159%2C%2076.03254926253759%5D%2C%20%5B30.1690284335128%2C%2031.49231102977993%2C%2076.05832639574527%5D%2C%20%5B30.1691670786817%2C%2031.49231096819749%2C%2076.08410352895297%5D%2C%20%5B30.16924830092543%2C%2031.49224346056353%2C%2076.10988066216063%5D%2C%20%5B30.16933658688986%2C%2031.49212997740186%2C%2076.10663724260628%5D%2C%20%5B30.16964681494114%2C%2031.49213550949294%2C%2076.10501553282911%5D%2C%20%5B30.16972132717246%2C%2031.49212800873599%2C%2076.10420467794053%5D%2C%20%5B30.16975757599526%2C%2031.49232200753679%2C%2076.10339382305193%5D%5D%2C%0A%20%20%20%20%20%20%20%20%20%20%20%20%20%20%20%20%20%20%7B%0A%20%20%22bubblingMouseEvents%22%3A%20true%2C%0A%20%20%22color%22%3A%20%22%230000FF%22%2C%0A%20%20%22dashArray%22%3A%20%5B%0A%20%20%20%2010%2C%0A%20%20%20%2020%0A%20%20%5D%2C%0A%20%20%22dashOffset%22%3A%20null%2C%0A%20%20%22delay%22%3A%20400%2C%0A%20%20%22fill%22%3A%20false%2C%0A%20%20%22fillColor%22%3A%20%22%233388ff%22%2C%0A%20%20%22fillOpacity%22%3A%200.2%2C%0A%20%20%22fillRule%22%3A%20%22evenodd%22%2C%0A%20%20%22hardwareAcceleration%22%3A%20false%2C%0A%20%20%22lineCap%22%3A%20%22round%22%2C%0A%20%20%22lineJoin%22%3A%20%22round%22%2C%0A%20%20%22noClip%22%3A%20false%2C%0A%20%20%22opacity%22%3A%200.5%2C%0A%20%20%22paused%22%3A%20false%2C%0A%20%20%22pulseColor%22%3A%20%22%23FFFFFF%22%2C%0A%20%20%22reverse%22%3A%20false%2C%0A%20%20%22smoothFactor%22%3A%201.0%2C%0A%20%20%22stroke%22%3A%20true%2C%0A%20%20%22weight%22%3A%205%0A%7D%0A%20%20%20%20%20%20%20%20%20%20%20%20%20%20%20%20%29%0A%20%20%20%20%20%20%20%20%20%20%20%20%20%20%20%20.addTo%28map_02eef290fdb44b8eaf01192b855408e2%29%3B%0A%20%20%20%20%20%20%20%20%20%20%20%20%0A%20%20%20%20%0A%20%20%20%20%20%20%20%20var%20geo_json_59716e7a1f7b433f9c47944640a166b0%20%3D%20L.geoJson%28%0A%20%20%20%20%20%20%20%20%20%20%20%20%7B%22features%22%3A%20%5B%7B%22geometry%22%3A%20%7B%22coordinates%22%3A%20%5B%5B31.49238021259256%2C%2030.16939695296566%2C%2075.129070030987%5D%2C%20%5B31.49241500234766%2C%2030.16939713673159%2C%2075.26839780959187%5D%2C%20%5B31.49241334170752%2C%2030.16943923113767%2C%2075.50379569494714%5D%2C%20%5B31.49248064028475%2C%2030.16943694002862%2C%2075.75408377324266%5D%2C%20%5B31.49248104709825%2C%2030.16948156163746%2C%2076.20220929409503%5D%2C%20%5B31.49250771235855%2C%2030.16948426776873%2C%2076.41018057045399%5D%2C%20%5B31.49250595518686%2C%2030.16952679055846%2C%2076.68223109185207%5D%2C%20%5B31.4924921887647%2C%2030.16952675412151%2C%2076.60832024415328%5D%2C%20%5B31.49248039908329%2C%2030.16963598634642%2C%2076.56753821831319%5D%2C%20%5B31.49250487779479%2C%2030.16965547062163%2C%2076.5523335561072%5D%2C%20%5B31.49250281473367%2C%2030.16973350811216%2C%2076.41761943822722%5D%2C%20%5B31.49247237613736%2C%2030.16973354406036%2C%2076.37493855954955%5D%2C%20%5B31.49246647842912%2C%2030.16982683896712%2C%2076.36242555875378%5D%2C%20%5B31.49249497016003%2C%2030.16982675921228%2C%2076.4176320356712%5D%2C%20%5B31.49248236199512%2C%2030.16990360331598%2C%2076.57215877827832%5D%2C%20%5B31.49245106688048%2C%2030.16990570780693%2C%2076.4076903521464%5D%2C%20%5B31.49244261066809%2C%2030.17001391711465%2C%2076.06657699018416%5D%2C%20%5B31.49245999155722%2C%2030.170017848361%2C%2076.11054908635819%5D%2C%20%5B31.49245376024571%2C%2030.17005854093729%2C%2075.67974725784077%5D%2C%20%5B31.4924190313636%2C%2030.17006052076831%2C%2075.69295484817086%5D%2C%20%5B31.49241864787642%2C%2030.17009715510137%2C%2075.3846038575462%5D%2C%20%5B31.49238617994896%2C%2030.17009914274383%2C%2075.39405904348678%5D%2C%20%5B31.49238349722651%2C%2030.17013076119789%2C%2075.1410578393209%5D%2C%20%5B31.49234279522576%2C%2030.17013709635223%2C%2075.11312843316152%5D%2C%20%5B31.49234312178728%2C%2030.17010970583742%2C%2075.31049949160509%5D%2C%20%5B31.49220019926926%2C%2030.17011582912458%2C%2075.23697645420357%5D%2C%20%5B31.49219657820155%2C%2030.17008679209252%2C%2075.18058492915209%5D%2C%20%5B31.49220105013837%2C%2030.17002059064212%2C%2075.10896943335862%5D%2C%20%5B31.49220773866417%2C%2030.16999657463944%2C%2074.99076574059582%5D%2C%20%5B31.49222289322749%2C%2030.16999555600052%2C%2075.0088017706439%5D%2C%20%5B31.49223051964075%2C%2030.16988906983556%2C%2074.78289540505868%5D%2C%20%5B31.49224349287516%2C%2030.16989609667307%2C%2074.86084326459968%5D%2C%20%5B31.49225492816461%2C%2030.16980957656855%2C%2074.76753485001385%5D%2C%20%5B31.49235183800457%2C%2030.16981581865925%2C%2075.67795074915621%5D%2C%20%5B31.49235869486996%2C%2030.16972866452213%2C%2075.61907331198687%5D%2C%20%5B31.49226315314767%2C%2030.16972406949794%2C%2074.80451112507332%5D%2C%20%5B31.49227050251496%2C%2030.1696508269224%2C%2074.98370061161226%5D%2C%20%5B31.49225187694947%2C%2030.16961853883606%2C%2074.97232348435759%5D%2C%20%5B31.49226569073425%2C%2030.16950686866685%2C%2074.90562328486449%5D%2C%20%5B31.492245845737%2C%2030.16950681982604%2C%2074.87226772598977%5D%2C%20%5B31.49226448793009%2C%2030.16939521553537%2C%2074.88632718646313%5D%2C%20%5B31.49228322662385%2C%2030.16939534902928%2C%2074.95082805896952%5D%2C%20%5B31.49231339250624%2C%2030.16937796837507%2C%2074.91408357687942%5D%2C%20%5B31.49238021259256%2C%2030.16939695296566%2C%2075.129070030987%5D%5D%2C%20%22type%22%3A%20%22LineString%22%7D%2C%20%22properties%22%3A%20%7B%22highlight%22%3A%20%7B%7D%2C%20%22name%22%3A%20%22pharmacy%22%2C%20%22style%22%3A%20%7B%7D%7D%2C%20%22type%22%3A%20%22Feature%22%7D%5D%2C%20%22type%22%3A%20%22FeatureCollection%22%7D%2C%0A%20%20%20%20%20%20%20%20%20%20%20%20%7B%0A%20%20%20%20%20%20%20%20%20%20%20%20%7D%0A%20%20%20%20%20%20%20%20%29.addTo%28map_02eef290fdb44b8eaf01192b855408e2%20%29%3B%0A%20%20%20%20%20%20%20%20geo_json_59716e7a1f7b433f9c47944640a166b0.setStyle%28function%28feature%29%20%7Breturn%20feature.properties.style%3B%7D%29%3B%0A%20%20%20%20%20%20%20%20%0A%3C/script%3E onload=\"this.contentDocument.open();this.contentDocument.write(    decodeURIComponent(this.getAttribute('data-html')));this.contentDocument.close();\" allowfullscreen webkitallowfullscreen mozallowfullscreen></iframe></div></div>",
                  "text/plain": "<folium.folium.Map at 0x7fd668b1b6d0>"
                },
                "metadata": {}
              }
            ],
            "_view_module": "@jupyter-widgets/output",
            "_model_module_version": "1.0.0",
            "_view_count": null,
            "_view_module_version": "1.0.0",
            "layout": "IPY_MODEL_b79d8947c3dc44b1b0e9e29278587e24",
            "_model_module": "@jupyter-widgets/output"
          }
        },
        "72ab555745e9457fad73cc70059bb1f2": {
          "model_module": "@jupyter-widgets/controls",
          "model_name": "DescriptionStyleModel",
          "model_module_version": "1.5.0",
          "state": {
            "_view_name": "StyleView",
            "_model_name": "DescriptionStyleModel",
            "description_width": "",
            "_view_module": "@jupyter-widgets/base",
            "_model_module_version": "1.5.0",
            "_view_count": null,
            "_view_module_version": "1.2.0",
            "_model_module": "@jupyter-widgets/controls"
          }
        },
        "98c384790b344607956b9327d3d652c7": {
          "model_module": "@jupyter-widgets/base",
          "model_name": "LayoutModel",
          "model_module_version": "1.2.0",
          "state": {
            "_view_name": "LayoutView",
            "grid_template_rows": null,
            "right": null,
            "justify_content": null,
            "_view_module": "@jupyter-widgets/base",
            "overflow": null,
            "_model_module_version": "1.2.0",
            "_view_count": null,
            "flex_flow": null,
            "width": null,
            "min_width": null,
            "border": null,
            "align_items": null,
            "bottom": null,
            "_model_module": "@jupyter-widgets/base",
            "top": null,
            "grid_column": null,
            "overflow_y": null,
            "overflow_x": null,
            "grid_auto_flow": null,
            "grid_area": null,
            "grid_template_columns": null,
            "flex": null,
            "_model_name": "LayoutModel",
            "justify_items": null,
            "grid_row": null,
            "max_height": null,
            "align_content": null,
            "visibility": null,
            "align_self": null,
            "height": null,
            "min_height": null,
            "padding": null,
            "grid_auto_rows": null,
            "grid_gap": null,
            "max_width": null,
            "order": null,
            "_view_module_version": "1.2.0",
            "grid_template_areas": null,
            "object_position": null,
            "object_fit": null,
            "grid_auto_columns": null,
            "margin": null,
            "display": null,
            "left": null
          }
        },
        "b79d8947c3dc44b1b0e9e29278587e24": {
          "model_module": "@jupyter-widgets/base",
          "model_name": "LayoutModel",
          "model_module_version": "1.2.0",
          "state": {
            "_view_name": "LayoutView",
            "grid_template_rows": null,
            "right": null,
            "justify_content": null,
            "_view_module": "@jupyter-widgets/base",
            "overflow": null,
            "_model_module_version": "1.2.0",
            "_view_count": null,
            "flex_flow": null,
            "width": null,
            "min_width": null,
            "border": null,
            "align_items": null,
            "bottom": null,
            "_model_module": "@jupyter-widgets/base",
            "top": null,
            "grid_column": null,
            "overflow_y": null,
            "overflow_x": null,
            "grid_auto_flow": null,
            "grid_area": null,
            "grid_template_columns": null,
            "flex": null,
            "_model_name": "LayoutModel",
            "justify_items": null,
            "grid_row": null,
            "max_height": null,
            "align_content": null,
            "visibility": null,
            "align_self": null,
            "height": null,
            "min_height": null,
            "padding": null,
            "grid_auto_rows": null,
            "grid_gap": null,
            "max_width": null,
            "order": null,
            "_view_module_version": "1.2.0",
            "grid_template_areas": null,
            "object_position": null,
            "object_fit": null,
            "grid_auto_columns": null,
            "margin": null,
            "display": null,
            "left": null
          }
        }
      }
    }
  },
  "cells": [
    {
      "cell_type": "code",
      "metadata": {
        "id": "mEUK69lOwQar"
      },
      "source": [
        "import folium\n",
        "from folium import plugins\n",
        "import pandas as pd\n",
        "\n",
        "import ipywidgets\n",
        "import os\n",
        "import json\n",
        "\n",
        "from IPython.display import YouTubeVideo\n",
        "import datetime"
      ],
      "execution_count": 72,
      "outputs": []
    },
    {
      "cell_type": "code",
      "metadata": {
        "id": "g_UAR_hEhh5u"
      },
      "source": [
        "class navigator:\n",
        "    def __init__(self):\n",
        "        self.geoResources = {}\n",
        "        self.miuLocation =(30.1701, 31.4919)\n",
        "        self.position = 'w'\n",
        "        self.destination = 'MIU1'\n",
        "\n",
        "        for root, dirs, files in os.walk('MIUNavigator/GeoResources'):  \n",
        "            for file in files:\n",
        "                self.geoResources[file.split('.')[0]] = root+'/'+file\n",
        "\n",
        "    def changeDestination(self,newDestination):\n",
        "        self.destination = newDestination\n",
        "        self.redrawMap()\n",
        "\n",
        "    def changeStartPoint(self, newStartPoint):\n",
        "        \n",
        "        #self.position = newStartPoint #does not work yet\n",
        "        print(f'Selected Start: {newStartPoint}; Selected Target: {self.destination}')\n",
        "        #self.redrawMap()\n",
        "        \n",
        "\n",
        "    def drawPathWay(self,miuMap):\n",
        "      \n",
        "      def switchPosition(coordinate):\n",
        "        temp = coordinate[0]\n",
        "        coordinate[0] = coordinate[1]\n",
        "        coordinate[1] = temp\n",
        "        return coordinate\n",
        "\n",
        "      searchString = self.position + self.destination.split('MIU')[1]\n",
        "      with open(self.geoResources[searchString]) as f:\n",
        "           testWay = json.load(f)\n",
        "\n",
        "      for feature in testWay['features']:\n",
        "        path = feature['geometry']['coordinates']\n",
        "\n",
        "      finalPath = list(map(switchPosition,path))\n",
        "      folium.plugins.AntPath(finalPath).add_to(miuMap)\n",
        "\n",
        "    def drawBuilding(self,miuMap):\n",
        "      MIUOutline = self.geoResources[self.destination]\n",
        "      folium.GeoJson(MIUOutline, name=\"geojson\").add_to(miuMap)\n",
        "\n",
        "    def redrawMap(self):\n",
        "        #print(f'position {self.position}, destination {self.destination}')\n",
        "        miuMap = folium.Map(location = self.miuLocation, width = \"75%\", zoom_start = 17)\n",
        "        self.drawPathWay(miuMap)\n",
        "        self.drawBuilding(miuMap)\n",
        "        display(miuMap)\n",
        "\n",
        "\n"
      ],
      "execution_count": 73,
      "outputs": []
    },
    {
      "cell_type": "code",
      "metadata": {
        "id": "NiF2NcmlVioA"
      },
      "source": [
        "myNavigator = navigator()"
      ],
      "execution_count": 74,
      "outputs": []
    },
    {
      "cell_type": "code",
      "metadata": {
        "id": "1KVHVrwnjD1H"
      },
      "source": [
        "def displayWay(whereTo):\n",
        "     myNavigator.changeDestination(whereTo)"
      ],
      "execution_count": 75,
      "outputs": []
    },
    {
      "cell_type": "code",
      "metadata": {
        "id": "pjRHgbd7jEPb"
      },
      "source": [
        "def changePosition(whereFrom):\n",
        "    myNavigator.changeStartPoint(whereFrom)"
      ],
      "execution_count": 76,
      "outputs": []
    },
    {
      "cell_type": "code",
      "metadata": {
        "id": "m1kE2QZlacKq",
        "colab": {
          "base_uri": "https://localhost:8080/",
          "height": 908,
          "referenced_widgets": [
            "7d450a63ca9a46f3a892efc7c060b930",
            "15b7500650f044f8ab0ab5bdebb33126",
            "f3bee9cda24e4a1a8cd94a3f0d1eccdd",
            "885cae76acf548469184720a005a3460",
            "f033b40a24844990bc144e6009064db8",
            "0caa5a25efc2465287898a1edfb7faf9",
            "07a06bf55f5d4e4a8bd16e8e32118726",
            "1b045e49d96746dd818fec3866f0fd93",
            "60aef6a75a3b425f9e9130e938c0b6d0",
            "ebf9235059824397b22c265ae806099a",
            "c41c777a32f5445f8e7fd1e703ce2e46",
            "72ab555745e9457fad73cc70059bb1f2",
            "98c384790b344607956b9327d3d652c7",
            "b79d8947c3dc44b1b0e9e29278587e24"
          ]
        },
        "outputId": "f8296911-0c6d-4fc1-ea50-69290b7ac41b"
      },
      "source": [
        "# Destination Selector\n",
        "selectHouse_widget=ipywidgets.Select(\n",
        "    \n",
        "options=['Main','K-bulding','Pharmacy-bulding','S-bulding','N-bulding','R-bulding'],\n",
        "    value='Main',\n",
        "    description='Target',\n",
        "    disabled=False)\n",
        "\n",
        "# widget function\n",
        "def selectHouse(way):\n",
        "    if way == 'Main' :\n",
        "        displayWay('MIU1' )\n",
        "    if way == 'K-bulding' :\n",
        "        displayWay('MIU2' )\n",
        "    if way == 'Pharmacy-bulding' :\n",
        "        displayWay('MIU3' )\n",
        "    if way == 'S-bulding' :\n",
        "        displayWay('MIU4' )\n",
        "    if way == 'N-bulding' :\n",
        "        displayWay('MIU5' ) \n",
        "   \n",
        "\n",
        "# Position Selector\n",
        "selectPosition_widget=ipywidgets.Select(\n",
        "    options=['Staff Gate', 'Students Gate'],\n",
        "    value='Students Gate',\n",
        "    description='Start',\n",
        "    disabled=False)\n",
        "\n",
        "def selectPosition(position):\n",
        "    if position == 'Students Gate':\n",
        "        changePosition('w')\n",
        "    if position == 'Staff Gate':\n",
        "        changePosition('o')\n",
        "\n",
        "        \n",
        "#Initialization   \n",
        "ipywidgets.interact(selectPosition, position=selectPosition_widget)\n",
        "ipywidgets.interact(selectHouse, way=selectHouse_widget)"
      ],
      "execution_count": 84,
      "outputs": [
        {
          "output_type": "display_data",
          "data": {
            "application/vnd.jupyter.widget-view+json": {
              "model_id": "7d450a63ca9a46f3a892efc7c060b930",
              "version_minor": 0,
              "version_major": 2
            },
            "text/plain": [
              "interactive(children=(Select(description='Start', index=1, options=('Staff Gate', 'Students Gate'), value='Stu…"
            ]
          },
          "metadata": {}
        },
        {
          "output_type": "display_data",
          "data": {
            "application/vnd.jupyter.widget-view+json": {
              "model_id": "1b045e49d96746dd818fec3866f0fd93",
              "version_minor": 0,
              "version_major": 2
            },
            "text/plain": [
              "interactive(children=(Select(description='Target', options=('Main', 'K-bulding', 'Pharmacy-bulding', 'S-buldin…"
            ]
          },
          "metadata": {}
        },
        {
          "output_type": "execute_result",
          "data": {
            "text/plain": [
              "<function __main__.selectHouse>"
            ]
          },
          "metadata": {},
          "execution_count": 84
        }
      ]
    }
  ]
}
