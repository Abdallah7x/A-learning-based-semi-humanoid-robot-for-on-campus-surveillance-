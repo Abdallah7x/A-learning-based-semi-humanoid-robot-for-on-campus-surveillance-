{
 "cells": [
  {
   "cell_type": "code",
   "execution_count": 26,
   "id": "4018d86e",
   "metadata": {},
   "outputs": [],
   "source": [
    "class Cards_Detect:\n",
    "    \n",
    "    def _init_(self,weights = \"bestlarge.pt\",src = 0 ,data= \"Cards-Detect-1/data.yaml\"):\n",
    "        self.weights=weights\n",
    "        self.src=src\n",
    "        self.data=data\n",
    "        \n",
    "    def detect(self):\n",
    "        !python detect.py --weights bestlarge.pt --img 640 --conf 0.25 --source 0\n",
    "    \n",
    "    def train (self):\n",
    "        !python train.py --img 640 --batch 12 --epochs 50 --data Cards-Detect-1/data.yaml --weights yolov5x.pt --cache\n",
    "        \n",
    "    def valid (self):\n",
    "        !python val.py --weights bestlarge.pt --data Cards-Detect-1/data.yaml --img 640 --iou 0.08 --half --task test\n",
    "        \n",
    "    "
   ]
  },
  {
   "cell_type": "code",
   "execution_count": 27,
   "id": "6af502fb",
   "metadata": {},
   "outputs": [],
   "source": [
    "class Smoking_Detect:\n",
    "        \n",
    "    def detect(self):\n",
    "        !python detectsmoke.py --weights bestsmoke.pt --img 640 --conf 0.50 --source 0\n",
    "    \n",
    "    def train (self):\n",
    "        !python train.py --img 640 --batch 12 --epochs 50 --data Cards-Detect-1/data.yaml --weights yolov5x.pt --cache\n",
    "        \n",
    "    def valid (self):\n",
    "        !python val.py --weights bestsmoke.pt --data Cards-Detect-1/data.yaml --img 640 --iou 0.08 --half --task test\n",
    "    "
   ]
  },
  {
   "cell_type": "code",
   "execution_count": null,
   "id": "3419106d",
   "metadata": {},
   "outputs": [],
   "source": [
    "#%cd YOLOV5/yolov5\n",
    "#! wget https://github.com/ultralytics/yolov5/releases/download/v6.0/yolov5x6.pt\n",
    "\n",
    "!pip install -r requirements.txt \n",
    "#!pwd\n",
    "import torch\n",
    "\n",
    "torch.cuda.is_available()"
   ]
  },
  {
   "cell_type": "code",
   "execution_count": 28,
   "id": "cd7b4dba",
   "metadata": {},
   "outputs": [
    {
     "name": "stderr",
     "output_type": "stream",
     "text": [
      "\u001b[34m\u001b[1mdetectsmoke: \u001b[0mweights=['bestsmoke.pt'], source=0, imgsz=[640, 640], conf_thres=0.35, iou_thres=0.45, max_det=1000, device=, view_img=False, save_txt=False, save_conf=False, save_crop=False, nosave=False, classes=None, agnostic_nms=False, augment=False, visualize=False, update=False, project=runs\\detect, name=exp, exist_ok=False, line_thickness=3, hide_labels=False, hide_conf=False, half=False, dnn=False\n",
      "YOLOv5  v6.0-162-gaffa284 torch 1.10.1 CPU\n",
      "\n",
      "Fusing layers... \n",
      "Model Summary: 444 layers, 86180143 parameters, 0 gradients, 204.0 GFLOPs\n",
      "1/1: 0...  Success (inf frames 640x480 at 30.00 FPS)\n",
      "\n",
      "0: 480x640 Done. (3.280s)\n",
      "0: 480x640 Done. (3.153s)\n",
      "0: 480x640 Done. (3.178s)\n",
      "0: 480x640 1 15, Done. (3.210s)\n",
      "0: 480x640 2 15s, Done. (3.657s)\n",
      "0: 480x640 1 15, Done. (3.243s)\n",
      "0: 480x640 1 15, Done. (3.123s)\n",
      "0: 480x640 1 15, Done. (3.119s)\n",
      "0: 480x640 Done. (3.157s)\n",
      "0: 480x640 1 15, Done. (3.503s)\n",
      "0: 480x640 Done. (3.148s)\n",
      "0: 480x640 Done. (3.118s)\n",
      "0: 480x640 Done. (3.124s)\n",
      "0: 480x640 Done. (3.090s)\n",
      "0: 480x640 1 15, Done. (3.625s)\n",
      "0: 480x640 Done. (3.183s)\n",
      "0: 480x640 Done. (3.118s)\n",
      "0: 480x640 Done. (3.133s)\n",
      "0: 480x640 1 15, Done. (3.069s)\n",
      "0: 480x640 1 15, Done. (3.640s)\n",
      "0: 480x640 1 15, Done. (3.115s)\n",
      "0: 480x640 1 15, Done. (3.108s)\n",
      "0: 480x640 1 15, Done. (3.093s)\n",
      "0: 480x640 1 15, Done. (3.171s)\n",
      "0: 480x640 Done. (3.516s)\n",
      "0: 480x640 1 15, Done. (3.147s)\n",
      "0: 480x640 1 15, Done. (3.024s)\n",
      "0: 480x640 Done. (3.134s)\n",
      "0: 480x640 Done. (3.189s)\n",
      "0: 480x640 Done. (3.669s)\n",
      "0: 480x640 Done. (3.226s)\n",
      "0: 480x640 Done. (3.176s)\n",
      "Speed: 1.1ms pre-process, 3232.5ms inference, 0.8ms NMS per image at shape (1, 3, 640, 640)\n",
      "Results saved to \u001b[1mruns\\detect\\exp16\u001b[0m\n"
     ]
    }
   ],
   "source": [
    "if __name__ == \"__main__\":\n",
    "    #cards=Cards_Detect()\n",
    "   # cards.detect()\n",
    "    smoke =Smoking_Detect()\n",
    "    smoke.detect()\n",
    "    "
   ]
  }
 ],
 "metadata": {
  "kernelspec": {
   "display_name": "Python 3 (ipykernel)",
   "language": "python",
   "name": "python3"
  },
  "language_info": {
   "codemirror_mode": {
    "name": "ipython",
    "version": 3
   },
   "file_extension": ".py",
   "mimetype": "text/x-python",
   "name": "python",
   "nbconvert_exporter": "python",
   "pygments_lexer": "ipython3",
   "version": "3.9.7"
  }
 },
 "nbformat": 4,
 "nbformat_minor": 5
}
