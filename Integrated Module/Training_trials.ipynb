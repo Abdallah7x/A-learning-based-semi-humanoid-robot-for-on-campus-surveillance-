{
 "cells": [
  {
   "cell_type": "code",
   "execution_count": 1,
   "id": "9ac2a1d9",
   "metadata": {},
   "outputs": [],
   "source": [
    "import numpy as np\n",
    "import pandas as pd\n",
    "import os\n",
    "from sklearn.metrics import classification_report\n",
    "import seaborn as sn; sn.set(font_scale=1.4)\n",
    "from sklearn.utils import shuffle\n",
    "import matplotlib.pyplot as plt \n",
    "import cv2\n",
    "import tensorflow as tf\n",
    "from tqdm import tqdm\n",
    "from IPython.display import clear_output\n",
    "from tensorflow.keras.models import Sequential\n",
    "from tensorflow.keras.layers import Dense, Conv2D, MaxPool2D, Flatten, Activation, Dense, Dropout, LSTM\n",
    "from tensorflow.keras import backend as K\n",
    "from keras.layers import LSTM\n",
    "from keras.applications.vgg16 import VGG16\n",
    "from keras.preprocessing import image\n",
    "from keras.applications.vgg16 import preprocess_input\n",
    "from keras.models import Model\n",
    "from tensorflow import keras\n",
    "from tensorflow.keras import layers\n",
    "from sklearn.model_selection import GridSearchCV\n",
    "from keras.wrappers.scikit_learn import KerasClassifier\n",
    "from keras.callbacks import EarlyStopping"
   ]
  },
  {
   "cell_type": "code",
   "execution_count": 2,
   "id": "74524a99",
   "metadata": {},
   "outputs": [
    {
     "name": "stdout",
     "output_type": "stream",
     "text": [
      "{'Fight': 0, 'Normal': 1, 'Playing-Cards': 2, 'Smoking': 3}\n"
     ]
    }
   ],
   "source": [
    "class_names =['Fight','Normal','Playing-Cards','Smoking']\n",
    "class_names_label = {class_name:i for i, class_name in enumerate(class_names)}\n",
    "nb_classes =  len(class_names)\n",
    "print(class_names_label)\n",
    "IMAGE_SIZE=(100,100)"
   ]
  },
  {
   "cell_type": "code",
   "execution_count": 3,
   "id": "63b39bce",
   "metadata": {},
   "outputs": [
    {
     "name": "stdout",
     "output_type": "stream",
     "text": [
      "E:\\CS\\Graduation Project\\-A-learning-based-semi-Humanoid-Robot-for-On-campus-Surveillance-main\\Integrated\n"
     ]
    }
   ],
   "source": [
    "cd E:/CS/Graduation Project/-A-learning-based-semi-Humanoid-Robot-for-On-campus-Surveillance-main/Integrated"
   ]
  },
  {
   "cell_type": "code",
   "execution_count": 4,
   "id": "dd1ad3d4",
   "metadata": {},
   "outputs": [],
   "source": [
    "def load_data():\n",
    "    DIRECTORY=r'cnn_data'\n",
    "    CATEGORY = [\"training_data\",\"validation_data\"]\n",
    "    output=[]\n",
    "    for category in CATEGORY:\n",
    "        path=os.path.join(DIRECTORY,category)\n",
    "        images=[]\n",
    "        labels=[]\n",
    "        print(\"Loading {}\".format(category))\n",
    "        for folder in os.listdir(path):\n",
    "            label = class_names_label[folder]\n",
    "            #print(\"Loading {}\".format(folder))\n",
    "            for file in os.listdir(os.path.join(path,folder)):\n",
    "                #os.system('cls')\n",
    "                clear_output(wait=True)\n",
    "                print(\"Loading {} {} {}\".format(category,folder,file))\n",
    "                img_path = os.path.join(os.path.join(path,folder),file)\n",
    "                \n",
    "                image = cv2.imread(img_path)\n",
    "                image = cv2.cvtColor(image, cv2.COLOR_BGR2GRAY)\n",
    "                image = cv2.resize(image, IMAGE_SIZE)\n",
    "                \n",
    "                images.append(image)\n",
    "                labels.append(label)\n",
    "        images = np.expand_dims(images, axis=-1)\n",
    "        images = np.array(images, dtype = 'float32')\n",
    "        labels = np.array(labels, dtype = 'int32')\n",
    "        \n",
    "        output.append((images, labels))\n",
    "    return output"
   ]
  },
  {
   "cell_type": "code",
   "execution_count": 5,
   "id": "77ea1fb8",
   "metadata": {
    "scrolled": true
   },
   "outputs": [
    {
     "name": "stdout",
     "output_type": "stream",
     "text": [
      "Loading validation_data Smoking smoking_1121.jpg\n"
     ]
    }
   ],
   "source": [
    "(train_images, train_labels),(test_images, test_labels)= load_data()"
   ]
  },
  {
   "cell_type": "code",
   "execution_count": 8,
   "id": "a0badab3",
   "metadata": {},
   "outputs": [
    {
     "ename": "MemoryError",
     "evalue": "Unable to allocate 473. MiB for an array with shape (12409, 100, 100, 1) and data type float32",
     "output_type": "error",
     "traceback": [
      "\u001b[1;31m---------------------------------------------------------------------------\u001b[0m",
      "\u001b[1;31mMemoryError\u001b[0m                               Traceback (most recent call last)",
      "\u001b[1;32m~\\AppData\\Local\\Temp/ipykernel_21932/947001165.py\u001b[0m in \u001b[0;36m<module>\u001b[1;34m\u001b[0m\n\u001b[1;32m----> 1\u001b[1;33m \u001b[0mtrain_images\u001b[0m \u001b[1;33m,\u001b[0m \u001b[0mtrain_labels\u001b[0m \u001b[1;33m=\u001b[0m \u001b[0mshuffle\u001b[0m\u001b[1;33m(\u001b[0m\u001b[0mtrain_images\u001b[0m\u001b[1;33m,\u001b[0m \u001b[0mtrain_labels\u001b[0m\u001b[1;33m,\u001b[0m \u001b[0mrandom_state\u001b[0m\u001b[1;33m=\u001b[0m\u001b[1;36m40\u001b[0m\u001b[1;33m)\u001b[0m\u001b[1;33m\u001b[0m\u001b[1;33m\u001b[0m\u001b[0m\n\u001b[0m",
      "\u001b[1;32mE:\\Anaconda\\envs\\notebook\\lib\\site-packages\\sklearn\\utils\\__init__.py\u001b[0m in \u001b[0;36mshuffle\u001b[1;34m(random_state, n_samples, *arrays)\u001b[0m\n\u001b[0;32m    666\u001b[0m     \u001b[0mresample\u001b[0m\u001b[1;33m\u001b[0m\u001b[1;33m\u001b[0m\u001b[0m\n\u001b[0;32m    667\u001b[0m     \"\"\"\n\u001b[1;32m--> 668\u001b[1;33m     return resample(\n\u001b[0m\u001b[0;32m    669\u001b[0m         \u001b[1;33m*\u001b[0m\u001b[0marrays\u001b[0m\u001b[1;33m,\u001b[0m \u001b[0mreplace\u001b[0m\u001b[1;33m=\u001b[0m\u001b[1;32mFalse\u001b[0m\u001b[1;33m,\u001b[0m \u001b[0mn_samples\u001b[0m\u001b[1;33m=\u001b[0m\u001b[0mn_samples\u001b[0m\u001b[1;33m,\u001b[0m \u001b[0mrandom_state\u001b[0m\u001b[1;33m=\u001b[0m\u001b[0mrandom_state\u001b[0m\u001b[1;33m\u001b[0m\u001b[1;33m\u001b[0m\u001b[0m\n\u001b[0;32m    670\u001b[0m     )\n",
      "\u001b[1;32mE:\\Anaconda\\envs\\notebook\\lib\\site-packages\\sklearn\\utils\\__init__.py\u001b[0m in \u001b[0;36mresample\u001b[1;34m(replace, n_samples, random_state, stratify, *arrays)\u001b[0m\n\u001b[0;32m    592\u001b[0m     \u001b[1;31m# convert sparse matrices to CSR for row-based indexing\u001b[0m\u001b[1;33m\u001b[0m\u001b[1;33m\u001b[0m\u001b[0m\n\u001b[0;32m    593\u001b[0m     \u001b[0marrays\u001b[0m \u001b[1;33m=\u001b[0m \u001b[1;33m[\u001b[0m\u001b[0ma\u001b[0m\u001b[1;33m.\u001b[0m\u001b[0mtocsr\u001b[0m\u001b[1;33m(\u001b[0m\u001b[1;33m)\u001b[0m \u001b[1;32mif\u001b[0m \u001b[0missparse\u001b[0m\u001b[1;33m(\u001b[0m\u001b[0ma\u001b[0m\u001b[1;33m)\u001b[0m \u001b[1;32melse\u001b[0m \u001b[0ma\u001b[0m \u001b[1;32mfor\u001b[0m \u001b[0ma\u001b[0m \u001b[1;32min\u001b[0m \u001b[0marrays\u001b[0m\u001b[1;33m]\u001b[0m\u001b[1;33m\u001b[0m\u001b[1;33m\u001b[0m\u001b[0m\n\u001b[1;32m--> 594\u001b[1;33m     \u001b[0mresampled_arrays\u001b[0m \u001b[1;33m=\u001b[0m \u001b[1;33m[\u001b[0m\u001b[0m_safe_indexing\u001b[0m\u001b[1;33m(\u001b[0m\u001b[0ma\u001b[0m\u001b[1;33m,\u001b[0m \u001b[0mindices\u001b[0m\u001b[1;33m)\u001b[0m \u001b[1;32mfor\u001b[0m \u001b[0ma\u001b[0m \u001b[1;32min\u001b[0m \u001b[0marrays\u001b[0m\u001b[1;33m]\u001b[0m\u001b[1;33m\u001b[0m\u001b[1;33m\u001b[0m\u001b[0m\n\u001b[0m\u001b[0;32m    595\u001b[0m     \u001b[1;32mif\u001b[0m \u001b[0mlen\u001b[0m\u001b[1;33m(\u001b[0m\u001b[0mresampled_arrays\u001b[0m\u001b[1;33m)\u001b[0m \u001b[1;33m==\u001b[0m \u001b[1;36m1\u001b[0m\u001b[1;33m:\u001b[0m\u001b[1;33m\u001b[0m\u001b[1;33m\u001b[0m\u001b[0m\n\u001b[0;32m    596\u001b[0m         \u001b[1;31m# syntactic sugar for the unit argument case\u001b[0m\u001b[1;33m\u001b[0m\u001b[1;33m\u001b[0m\u001b[0m\n",
      "\u001b[1;32mE:\\Anaconda\\envs\\notebook\\lib\\site-packages\\sklearn\\utils\\__init__.py\u001b[0m in \u001b[0;36m<listcomp>\u001b[1;34m(.0)\u001b[0m\n\u001b[0;32m    592\u001b[0m     \u001b[1;31m# convert sparse matrices to CSR for row-based indexing\u001b[0m\u001b[1;33m\u001b[0m\u001b[1;33m\u001b[0m\u001b[0m\n\u001b[0;32m    593\u001b[0m     \u001b[0marrays\u001b[0m \u001b[1;33m=\u001b[0m \u001b[1;33m[\u001b[0m\u001b[0ma\u001b[0m\u001b[1;33m.\u001b[0m\u001b[0mtocsr\u001b[0m\u001b[1;33m(\u001b[0m\u001b[1;33m)\u001b[0m \u001b[1;32mif\u001b[0m \u001b[0missparse\u001b[0m\u001b[1;33m(\u001b[0m\u001b[0ma\u001b[0m\u001b[1;33m)\u001b[0m \u001b[1;32melse\u001b[0m \u001b[0ma\u001b[0m \u001b[1;32mfor\u001b[0m \u001b[0ma\u001b[0m \u001b[1;32min\u001b[0m \u001b[0marrays\u001b[0m\u001b[1;33m]\u001b[0m\u001b[1;33m\u001b[0m\u001b[1;33m\u001b[0m\u001b[0m\n\u001b[1;32m--> 594\u001b[1;33m     \u001b[0mresampled_arrays\u001b[0m \u001b[1;33m=\u001b[0m \u001b[1;33m[\u001b[0m\u001b[0m_safe_indexing\u001b[0m\u001b[1;33m(\u001b[0m\u001b[0ma\u001b[0m\u001b[1;33m,\u001b[0m \u001b[0mindices\u001b[0m\u001b[1;33m)\u001b[0m \u001b[1;32mfor\u001b[0m \u001b[0ma\u001b[0m \u001b[1;32min\u001b[0m \u001b[0marrays\u001b[0m\u001b[1;33m]\u001b[0m\u001b[1;33m\u001b[0m\u001b[1;33m\u001b[0m\u001b[0m\n\u001b[0m\u001b[0;32m    595\u001b[0m     \u001b[1;32mif\u001b[0m \u001b[0mlen\u001b[0m\u001b[1;33m(\u001b[0m\u001b[0mresampled_arrays\u001b[0m\u001b[1;33m)\u001b[0m \u001b[1;33m==\u001b[0m \u001b[1;36m1\u001b[0m\u001b[1;33m:\u001b[0m\u001b[1;33m\u001b[0m\u001b[1;33m\u001b[0m\u001b[0m\n\u001b[0;32m    596\u001b[0m         \u001b[1;31m# syntactic sugar for the unit argument case\u001b[0m\u001b[1;33m\u001b[0m\u001b[1;33m\u001b[0m\u001b[0m\n",
      "\u001b[1;32mE:\\Anaconda\\envs\\notebook\\lib\\site-packages\\sklearn\\utils\\__init__.py\u001b[0m in \u001b[0;36m_safe_indexing\u001b[1;34m(X, indices, axis)\u001b[0m\n\u001b[0;32m    376\u001b[0m         \u001b[1;32mreturn\u001b[0m \u001b[0m_pandas_indexing\u001b[0m\u001b[1;33m(\u001b[0m\u001b[0mX\u001b[0m\u001b[1;33m,\u001b[0m \u001b[0mindices\u001b[0m\u001b[1;33m,\u001b[0m \u001b[0mindices_dtype\u001b[0m\u001b[1;33m,\u001b[0m \u001b[0maxis\u001b[0m\u001b[1;33m=\u001b[0m\u001b[0maxis\u001b[0m\u001b[1;33m)\u001b[0m\u001b[1;33m\u001b[0m\u001b[1;33m\u001b[0m\u001b[0m\n\u001b[0;32m    377\u001b[0m     \u001b[1;32melif\u001b[0m \u001b[0mhasattr\u001b[0m\u001b[1;33m(\u001b[0m\u001b[0mX\u001b[0m\u001b[1;33m,\u001b[0m \u001b[1;34m\"shape\"\u001b[0m\u001b[1;33m)\u001b[0m\u001b[1;33m:\u001b[0m\u001b[1;33m\u001b[0m\u001b[1;33m\u001b[0m\u001b[0m\n\u001b[1;32m--> 378\u001b[1;33m         \u001b[1;32mreturn\u001b[0m \u001b[0m_array_indexing\u001b[0m\u001b[1;33m(\u001b[0m\u001b[0mX\u001b[0m\u001b[1;33m,\u001b[0m \u001b[0mindices\u001b[0m\u001b[1;33m,\u001b[0m \u001b[0mindices_dtype\u001b[0m\u001b[1;33m,\u001b[0m \u001b[0maxis\u001b[0m\u001b[1;33m=\u001b[0m\u001b[0maxis\u001b[0m\u001b[1;33m)\u001b[0m\u001b[1;33m\u001b[0m\u001b[1;33m\u001b[0m\u001b[0m\n\u001b[0m\u001b[0;32m    379\u001b[0m     \u001b[1;32melse\u001b[0m\u001b[1;33m:\u001b[0m\u001b[1;33m\u001b[0m\u001b[1;33m\u001b[0m\u001b[0m\n\u001b[0;32m    380\u001b[0m         \u001b[1;32mreturn\u001b[0m \u001b[0m_list_indexing\u001b[0m\u001b[1;33m(\u001b[0m\u001b[0mX\u001b[0m\u001b[1;33m,\u001b[0m \u001b[0mindices\u001b[0m\u001b[1;33m,\u001b[0m \u001b[0mindices_dtype\u001b[0m\u001b[1;33m)\u001b[0m\u001b[1;33m\u001b[0m\u001b[1;33m\u001b[0m\u001b[0m\n",
      "\u001b[1;32mE:\\Anaconda\\envs\\notebook\\lib\\site-packages\\sklearn\\utils\\__init__.py\u001b[0m in \u001b[0;36m_array_indexing\u001b[1;34m(array, key, key_dtype, axis)\u001b[0m\n\u001b[0;32m    200\u001b[0m     \u001b[1;32mif\u001b[0m \u001b[0misinstance\u001b[0m\u001b[1;33m(\u001b[0m\u001b[0mkey\u001b[0m\u001b[1;33m,\u001b[0m \u001b[0mtuple\u001b[0m\u001b[1;33m)\u001b[0m\u001b[1;33m:\u001b[0m\u001b[1;33m\u001b[0m\u001b[1;33m\u001b[0m\u001b[0m\n\u001b[0;32m    201\u001b[0m         \u001b[0mkey\u001b[0m \u001b[1;33m=\u001b[0m \u001b[0mlist\u001b[0m\u001b[1;33m(\u001b[0m\u001b[0mkey\u001b[0m\u001b[1;33m)\u001b[0m\u001b[1;33m\u001b[0m\u001b[1;33m\u001b[0m\u001b[0m\n\u001b[1;32m--> 202\u001b[1;33m     \u001b[1;32mreturn\u001b[0m \u001b[0marray\u001b[0m\u001b[1;33m[\u001b[0m\u001b[0mkey\u001b[0m\u001b[1;33m]\u001b[0m \u001b[1;32mif\u001b[0m \u001b[0maxis\u001b[0m \u001b[1;33m==\u001b[0m \u001b[1;36m0\u001b[0m \u001b[1;32melse\u001b[0m \u001b[0marray\u001b[0m\u001b[1;33m[\u001b[0m\u001b[1;33m:\u001b[0m\u001b[1;33m,\u001b[0m \u001b[0mkey\u001b[0m\u001b[1;33m]\u001b[0m\u001b[1;33m\u001b[0m\u001b[1;33m\u001b[0m\u001b[0m\n\u001b[0m\u001b[0;32m    203\u001b[0m \u001b[1;33m\u001b[0m\u001b[0m\n\u001b[0;32m    204\u001b[0m \u001b[1;33m\u001b[0m\u001b[0m\n",
      "\u001b[1;31mMemoryError\u001b[0m: Unable to allocate 473. MiB for an array with shape (12409, 100, 100, 1) and data type float32"
     ]
    }
   ],
   "source": [
    "train_images , train_labels = shuffle(train_images, train_labels, random_state=40)"
   ]
  },
  {
   "cell_type": "code",
   "execution_count": null,
   "id": "17178680",
   "metadata": {},
   "outputs": [],
   "source": [
    "# model = Sequential()\n",
    "# model.add(LSTM(1024, input_shape=(100,100), return_sequences=True))\n",
    "# model.add(Dropout(0.2))\n",
    "# model.add(Dense(512))\n",
    "# model.add(Activation('relu'))\n",
    "# model.add(Dense(50))\n",
    "# model.add(Activation('relu'))\n",
    "# model.add(Dense(4))\n",
    "# model.add(Activation('softmax'))\n",
    "# #regressor.add(Dense(1))\n",
    "# model.compile(loss=keras.losses.SparseCategoricalCrossentropy(from_logits=True), optimizer='adam',metrics=['accuracy'])\n",
    "# model.summary()\n"
   ]
  },
  {
   "cell_type": "code",
   "execution_count": null,
   "id": "9274c342",
   "metadata": {},
   "outputs": [],
   "source": [
    "# model = keras.Sequential()\n",
    "\n",
    "# model.add(\n",
    "#     layers.Bidirectional(layers.LSTM(64, return_sequences=True), input_shape=(100, 100))\n",
    "# )\n",
    "# model.add(layers.Bidirectional(layers.LSTM(32)))\n",
    "# model.add(layers.Dense(4))\n",
    "\n",
    "# model.summary()"
   ]
  },
  {
   "cell_type": "code",
   "execution_count": null,
   "id": "b025b003",
   "metadata": {},
   "outputs": [],
   "source": [
    "# batch_size = 64\n",
    "# # Each MNIST image batch is a tensor of shape (batch_size, 28, 28).\n",
    "# # Each input sequence will be of size (28, 28) (height is treated like time).\n",
    "# input_dim = 100\n",
    "\n",
    "# units = 64\n",
    "# output_size = 4  # labels are from 0 to 9\n",
    "\n",
    "# # Build the RNN model\n",
    "# def build_model(allow_cudnn_kernel=True):\n",
    "#     # CuDNN is only available at the layer level, and not at the cell level.\n",
    "#     # This means `LSTM(units)` will use the CuDNN kernel,\n",
    "#     # while RNN(LSTMCell(units)) will run on non-CuDNN kernel.\n",
    "#     if allow_cudnn_kernel:\n",
    "#         # The LSTM layer with default options uses CuDNN.\n",
    "#         lstm_layer = keras.layers.LSTM(units, input_shape=(100, input_dim))\n",
    "#     else:\n",
    "#         # Wrapping a LSTMCell in a RNN layer will not use CuDNN.\n",
    "#         lstm_layer = keras.layers.RNN(\n",
    "#             keras.layers.LSTMCell(units), input_shape=(100, input_dim)\n",
    "#         )\n",
    "#     model = keras.models.Sequential(\n",
    "#         [\n",
    "#             lstm_layer,\n",
    "#             keras.layers.BatchNormalization(),\n",
    "#             keras.layers.Dense(output_size),\n",
    "#         ]\n",
    "#     )\n",
    "#     return model"
   ]
  },
  {
   "cell_type": "code",
   "execution_count": null,
   "id": "6cd2ddd7",
   "metadata": {
    "scrolled": false
   },
   "outputs": [],
   "source": [
    "#model = build_model(allow_cudnn_kernel=True)\n",
    "\n",
    "# model.compile(\n",
    "#     loss=keras.losses.SparseCategoricalCrossentropy(from_logits=True),\n",
    "#     optimizer=\"sgd\",\n",
    "#     metrics=[\"accuracy\"],\n",
    "# )\n",
    "\n",
    "\n",
    "#model.fit(train_images, train_labels , batch_size=100,epochs=25, validation_split=0.4)"
   ]
  },
  {
   "cell_type": "code",
   "execution_count": 2,
   "id": "03144fc2",
   "metadata": {},
   "outputs": [],
   "source": [
    "if K.image_data_format() == 'channels_first':\n",
    "    input_shape_val = (1, 100, 100)\n",
    "else:\n",
    "    input_shape_val = (100, 100, 1)"
   ]
  },
  {
   "cell_type": "markdown",
   "id": "8c40476c",
   "metadata": {},
   "source": []
  },
  {
   "cell_type": "code",
   "execution_count": 3,
   "id": "4d0a1913",
   "metadata": {},
   "outputs": [],
   "source": [
    "model= tf.keras.Sequential([tf.keras.layers.Conv2D(32,(3,3),activation = 'relu',input_shape=input_shape_val),\n",
    "                           tf.keras.layers.MaxPooling2D(2,2),\n",
    "                            tf.keras.layers.Conv2D(32,(3,3),activation = 'relu'),\n",
    "                            tf.keras.layers.MaxPooling2D(2,2),\n",
    "                            tf.keras.layers.Flatten(),\n",
    "                            tf.keras.layers.Dense(128, activation=tf.nn.relu),\n",
    "                            tf.keras.layers.Dropout(0.4),\n",
    "                            tf.keras.layers.Dense(4, activation=tf.nn.softmax)\n",
    "                           ])"
   ]
  },
  {
   "cell_type": "code",
   "execution_count": 4,
   "id": "edca60df",
   "metadata": {},
   "outputs": [
    {
     "name": "stdout",
     "output_type": "stream",
     "text": [
      "Model: \"sequential\"\n",
      "_________________________________________________________________\n",
      "Layer (type)                 Output Shape              Param #   \n",
      "=================================================================\n",
      "conv2d (Conv2D)              (None, 98, 98, 32)        320       \n",
      "_________________________________________________________________\n",
      "max_pooling2d (MaxPooling2D) (None, 49, 49, 32)        0         \n",
      "_________________________________________________________________\n",
      "conv2d_1 (Conv2D)            (None, 47, 47, 32)        9248      \n",
      "_________________________________________________________________\n",
      "max_pooling2d_1 (MaxPooling2 (None, 23, 23, 32)        0         \n",
      "_________________________________________________________________\n",
      "flatten (Flatten)            (None, 16928)             0         \n",
      "_________________________________________________________________\n",
      "dense (Dense)                (None, 128)               2166912   \n",
      "_________________________________________________________________\n",
      "dropout (Dropout)            (None, 128)               0         \n",
      "_________________________________________________________________\n",
      "dense_1 (Dense)              (None, 4)                 516       \n",
      "=================================================================\n",
      "Total params: 2,176,996\n",
      "Trainable params: 2,176,996\n",
      "Non-trainable params: 0\n",
      "_________________________________________________________________\n"
     ]
    }
   ],
   "source": [
    "model.compile(optimizer='adam',loss='sparse_categorical_crossentropy',metrics=['accuracy'])\n",
    "model.summary()"
   ]
  },
  {
   "cell_type": "code",
   "execution_count": null,
   "id": "b1558f6a",
   "metadata": {},
   "outputs": [],
   "source": [
    "# #define the network\n",
    "# model = Sequential()\n",
    "\n",
    "# # Layer 1\n",
    "# model.add(Conv2D(20, (20, 20), \n",
    "#                  input_shape=(100,100,1), \n",
    "#                  padding='same', name='input_tensor'))\n",
    "# model.add(Activation('relu'))\n",
    "# model.add(MaxPool2D((2, 2)))\n",
    "\n",
    "# # Layer 2\n",
    "# model.add(Conv2D(20, (20, 20), padding='same'))\n",
    "# model.add(Activation('relu'))\n",
    "# model.add(MaxPool2D((2, 2)))\n",
    "\n",
    "# # # Layer 3\n",
    "# # model.add(Conv2D(20, (20, 20), padding='same'))\n",
    "# # model.add(Activation('relu'))\n",
    "# # model.add(MaxPool2D((2, 2)))\n",
    "\n",
    "\n",
    "# # flattening the model for fully connected layer\n",
    "# model.add(Flatten())\n",
    "\n",
    "# # fully connected layer\n",
    "# model.add(Dense(10, activation='relu'))\n",
    "\n",
    "# # output layer\n",
    "# model.add(Dense(4, activation='softmax', name='output_tensor'))\n",
    "\n",
    "# # Compilile the network\n",
    "# model.compile(loss='categorical_crossentropy',\n",
    "#               optimizer='adam', metrics=['accuracy'])\n",
    "\n",
    "# # Show the model summary\n",
    "# model.summary()"
   ]
  },
  {
   "cell_type": "code",
   "execution_count": null,
   "id": "d666a52c",
   "metadata": {},
   "outputs": [],
   "source": [
    "# simple early stopping\n",
    "es = EarlyStopping(monitor='val_loss', mode='min')"
   ]
  },
  {
   "cell_type": "code",
   "execution_count": null,
   "id": "61857bc6",
   "metadata": {
    "scrolled": true
   },
   "outputs": [],
   "source": [
    "history = model.fit(train_images, train_labels , batch_size=100,epochs=25, validation_split=0.2,callbacks=[es])"
   ]
  },
  {
   "cell_type": "code",
   "execution_count": null,
   "id": "22bc66e3",
   "metadata": {},
   "outputs": [],
   "source": [
    "print(\"Training is done!\")\n",
    "model.save('E:/CS/Graduation Project/-A-learning-based-semi-Humanoid-Robot-for-On-campus-Surveillance-main/Integrated/NewDataModels.h5')\n",
    "print(\"Model is successfully stored!\")"
   ]
  },
  {
   "cell_type": "code",
   "execution_count": null,
   "id": "dee777ab",
   "metadata": {},
   "outputs": [],
   "source": [
    "loaded_model = tf.keras.models.load_model(\"E:/CS/Graduation Project/-A-learning-based-semi-Humanoid-Robot-for-On-campus-Surveillance-main/Integrated/BigModels.h5\")\n",
    "loaded_model.layers[0].input_shape "
   ]
  },
  {
   "cell_type": "code",
   "execution_count": null,
   "id": "6004192f",
   "metadata": {},
   "outputs": [],
   "source": [
    "test_loss = loaded_model.evaluate(test_images, test_labels)"
   ]
  },
  {
   "cell_type": "code",
   "execution_count": null,
   "id": "55026eeb",
   "metadata": {},
   "outputs": [],
   "source": [
    "pred =loaded_model.predict(test_images)\n",
    "pred_labels = np.argmax(pred, axis =1)"
   ]
  },
  {
   "cell_type": "code",
   "execution_count": null,
   "id": "6eeaa72a",
   "metadata": {},
   "outputs": [],
   "source": [
    "print (classification_report(test_labels, pred_labels))"
   ]
  },
  {
   "cell_type": "code",
   "execution_count": null,
   "id": "ddb341d9",
   "metadata": {},
   "outputs": [],
   "source": [
    "# model =VGG16(weights='imagenet' ,include_top=False)\n",
    "# model =Model(inputs=model.inputs,outputs=model.layers[-5].output)"
   ]
  },
  {
   "cell_type": "code",
   "execution_count": null,
   "id": "32224f9b",
   "metadata": {},
   "outputs": [],
   "source": [
    "# train_features =model.predict(train_images)\n",
    "# test_features=model.predict(test_images)"
   ]
  },
  {
   "cell_type": "code",
   "execution_count": null,
   "id": "c41740a7",
   "metadata": {},
   "outputs": [],
   "source": [
    "# model2=VGG16(weights='imagenet', include_top=False)\n",
    "# input_shape=model2.layers[-4].get_input_shape_at(0)\n",
    "# layer_input=Input(shape=(9,9,512))"
   ]
  },
  {
   "cell_type": "code",
   "execution_count": null,
   "id": "b17453d6",
   "metadata": {},
   "outputs": [],
   "source": [
    "# x=layer_input\n",
    "# for layer in model2.layers[-4::1]:\n",
    "#     x=layer(x)\n",
    "# x= Conv2d(64,(3,3),activation='relu')(x)\n",
    "# x=MaxPooling2d(pool_size=(2,2))(x)\n",
    "# x=flatten()(x)\n",
    "# x=Dense(100,activation='relu')(x)\n",
    "# x=Dense(4,activation='softmax')(x)\n",
    "\n",
    "# new_model=Model(layer_input,x)\n",
    "\n",
    "# new_model.compile(optimizer='adam',loss='sparse_categorical_crossentropy',metrics=['accuracy'])"
   ]
  },
  {
   "cell_type": "code",
   "execution_count": null,
   "id": "b700ad10",
   "metadata": {},
   "outputs": [],
   "source": [
    "# history=new_model.fit(train_features,train_labels,batch_size=128,epochs=10,validation_split=0.2)"
   ]
  },
  {
   "cell_type": "code",
   "execution_count": null,
   "id": "3d1c2ba3",
   "metadata": {},
   "outputs": [],
   "source": [
    "# base_model = keras.applications.Xception(\n",
    "#     weights='imagenet',  # Load weights pre-trained on ImageNet.\n",
    "#     input_shape=(150, 150, 3),\n",
    "#     include_top=False)  # Do not include the ImageNet classifier at the top."
   ]
  },
  {
   "cell_type": "code",
   "execution_count": null,
   "id": "04a0a3cb",
   "metadata": {},
   "outputs": [],
   "source": [
    "# plt.plot(loaded_model.history['acc'])\n",
    "# plt.plot(loaded_model.history['val_acc'])\n",
    "# plt.title('model accuracy')\n",
    "# plt.ylabel('accuracy')\n",
    "# plt.xlabel('epoch')\n",
    "# plt.legend(['train', 'val'], loc='upper left')\n",
    "# plt.show()"
   ]
  },
  {
   "cell_type": "code",
   "execution_count": null,
   "id": "d75f5c33",
   "metadata": {},
   "outputs": [],
   "source": []
  },
  {
   "cell_type": "code",
   "execution_count": null,
   "id": "9124c6fe",
   "metadata": {},
   "outputs": [],
   "source": [
    "# define the grid search parameters\n",
    "batch_size = [60, 80, 100]\n",
    "epochs = [15, 25, 35]\n",
    "param_grid = dict(batch_size=batch_size, epochs=epochs)\n",
    "grid = GridSearchCV(estimator=model, param_grid=param_grid, n_jobs=None, cv=3)\n",
    "\n",
    "grid_result = grid.fit(train_images, train_labels )"
   ]
  },
  {
   "cell_type": "code",
   "execution_count": null,
   "id": "bae00658",
   "metadata": {},
   "outputs": [],
   "source": [
    "def create_model():\n",
    "    model= tf.keras.Sequential([tf.keras.layers.Conv2D(32,(3,3),activation = 'relu',input_shape=input_shape_val),\n",
    "                           tf.keras.layers.MaxPooling2D(2,2),\n",
    "                            tf.keras.layers.Conv2D(32,(3,3),activation = 'relu'),\n",
    "                            tf.keras.layers.MaxPooling2D(2,2),\n",
    "                            tf.keras.layers.Flatten(),\n",
    "                            tf.keras.layers.Dense(128, activation=tf.nn.relu),\n",
    "                            tf.keras.layers.Dense(4, activation=tf.nn.softmax)\n",
    "                           ])\n",
    "    model.compile(optimizer='adam',loss='sparse_categorical_crossentropy',metrics=['accuracy'])\n",
    "    #model.summary()\n",
    "    return model\n",
    "    "
   ]
  },
  {
   "cell_type": "code",
   "execution_count": null,
   "id": "9c31506d",
   "metadata": {},
   "outputs": [],
   "source": [
    "model = KerasClassifier(build_fn=create_model, verbose=0,  epochs=25)"
   ]
  },
  {
   "cell_type": "code",
   "execution_count": null,
   "id": "c8f16107",
   "metadata": {},
   "outputs": [],
   "source": [
    "# summarize results\n",
    "print(\"Best: %f using %s\" % (grid_result.best_score_, grid_result.best_params_))\n",
    "means = grid_result.cv_results_['mean_test_score']\n",
    "stds = grid_result.cv_results_['std_test_score']\n",
    "params = grid_result.cv_results_['params']\n",
    "for mean, stdev, param in zip(means, stds, params):\n",
    "    print(\"%f (%f) with: %r\" % (mean, stdev, param))"
   ]
  }
 ],
 "metadata": {
  "kernelspec": {
   "display_name": "Python 3 (ipykernel)",
   "language": "python",
   "name": "python3"
  },
  "language_info": {
   "codemirror_mode": {
    "name": "ipython",
    "version": 3
   },
   "file_extension": ".py",
   "mimetype": "text/x-python",
   "name": "python",
   "nbconvert_exporter": "python",
   "pygments_lexer": "ipython3",
   "version": "3.9.7"
  }
 },
 "nbformat": 4,
 "nbformat_minor": 5
}
